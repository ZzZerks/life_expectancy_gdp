{
 "cells": [
  {
   "cell_type": "code",
   "execution_count": 1,
   "metadata": {},
   "outputs": [],
   "source": [
    "import matplotlib.pyplot as plt\n",
    "import seaborn as sns\n",
    "import pandas as pd"
   ]
  },
  {
   "cell_type": "code",
   "execution_count": 3,
   "metadata": {},
   "outputs": [
    {
     "name": "stdout",
     "output_type": "stream",
     "text": [
      "  Country  Year  Life expectancy at birth (years)           GDP\n",
      "0   Chile  2000                              77.3  7.786093e+10\n",
      "1   Chile  2001                              77.3  7.097992e+10\n",
      "2   Chile  2002                              77.8  6.973681e+10\n",
      "3   Chile  2003                              77.9  7.564346e+10\n",
      "4   Chile  2004                              78.0  9.921039e+10\n",
      "5   Chile  2005                              78.4  1.229650e+11\n",
      "6   Chile  2006                              78.9  1.547880e+11\n",
      "7   Chile  2007                              78.9  1.736060e+11\n",
      "8   Chile  2008                              79.6  1.796380e+11\n",
      "9   Chile  2009                              79.3  1.723890e+11\n"
     ]
    }
   ],
   "source": [
    "# LOAD DATA\n",
    "df = pd.read_csv(\"all_data.csv\")\n",
    "print(df.head(10))"
   ]
  },
  {
   "cell_type": "code",
   "execution_count": 18,
   "metadata": {},
   "outputs": [
    {
     "name": "stdout",
     "output_type": "stream",
     "text": [
      "We have 6 countries for observation: \n",
      "Chile\n",
      "China\n",
      "Germany\n",
      "Mexico\n",
      "United States of America\n",
      "Zimbabwe\n"
     ]
    }
   ],
   "source": [
    "#Sorted and printed counries for better understanding\n",
    "countries = set(df[\"Country\"])\n",
    "print(\"We have\", sum_countries, \"countries for observation: \")\n",
    "for country in sorted(countries):\n",
    "    sum_countries = len(countries) \n",
    "    print(country)\n"
   ]
  },
  {
   "cell_type": "code",
   "execution_count": null,
   "metadata": {},
   "outputs": [],
   "source": []
  },
  {
   "cell_type": "code",
   "execution_count": null,
   "metadata": {},
   "outputs": [],
   "source": []
  }
 ],
 "metadata": {
  "kernelspec": {
   "display_name": "Python 3 (ipykernel)",
   "language": "python",
   "name": "python3"
  },
  "language_info": {
   "codemirror_mode": {
    "name": "ipython",
    "version": 3
   },
   "file_extension": ".py",
   "mimetype": "text/x-python",
   "name": "python",
   "nbconvert_exporter": "python",
   "pygments_lexer": "ipython3",
   "version": "3.10.9"
  }
 },
 "nbformat": 4,
 "nbformat_minor": 4
}
